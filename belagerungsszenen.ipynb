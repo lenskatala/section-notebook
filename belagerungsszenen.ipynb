{
 "cells": [
  {
   "cell_type": "raw",
   "metadata": {
    "vscode": {
     "languageId": "raw"
    }
   },
   "source": [
    "---\n",
    "title: \"Belagerungsszenen des Langen Türkenkriegs an der Decke\"\n",
    "jupyter: python3\n",
    "code-fold: true\n",
    "execute:\n",
    "  echo: true\n",
    "  output: asis\n",
    "\n",
    "---"
   ]
  },
  {
   "cell_type": "code",
   "execution_count": 2,
   "metadata": {},
   "outputs": [],
   "source": [
    "from funktionen import *"
   ]
  },
  {
   "cell_type": "code",
   "execution_count": 3,
   "metadata": {},
   "outputs": [
    {
     "name": "stdout",
     "output_type": "stream",
     "text": [
      "Wikibase link: [https://computational-publishing-service.wikibase.cloud/entity/Q278](https://computational-publishing-service.wikibase.cloud/entity/Q278)\n",
      "\n",
      "Kurator: Seeger, Ulrike\n",
      "\n",
      "<br><head><br>  <meta charset=\"utf-8\" /><br>  <meta content=\"text\" /><br>  <meta name=\"viewport\" content=\"width=device-width, initial-scale=1.0\" /><br></head><br><html xmlns=\"http://www.w3.org/1999/xhtml\" lang=\"de\" xml:lang=\"de\"><br>  <body><br>    <h2>Belagerungsszenen des Langen T\\xc3\\xbcrkenkriegs an der Decke</h2><br>    <h3>Zuweisung der Gem\\xc3\\xa4lde in die einstige Tafelstube</h3><br>    <p><br>      Die einstige Deckenzier der Tafelstube ist den Inventaren, die ja lediglich die mobilen Einrichtungsgegenst\\xc3\\xa4nde auff\\xc3\\xbchren, nicht zu entnehmen. Einer Haustradition von Schloss Weikersheim zufolge waren an der Decke urspr\\xc3\\xbcnglich jene 12 gro\\xc3\\x9fformatigen Belagerungsszenen angebracht, die sich heute in musealer Aufstellung teilweise im Flur vor dem einstigen Appartement Graf Wolfgangs im K\\xc3\\xbcchenbau befinden.[1] Bei der Unterteilung des Raumes 1837 wurden sie abgenommen und tauchten im Schloss 1946 wieder auf.[2] Ihre Anzahl, ihre Aufteilung in vier schmale und acht breite Bilder sowie wie die exakten Ma\\xc3\\x9fe[3] passen sehr gut zu den Gefachen der Balkendecke. Es besteht also kein Anlass, an dieser Haustradition zu zweifeln.<br>    </p><br>    <p><br>      <br>    </p><br>    <p><br>      <br>    </p><br>    <h3>Urheberschaft und Datierung der Gem\\xc3\\xa4lde</h3><br>    <p><br>      Nahezu alle Gem\\xc3\\xa4lde sind stilistisch Balthasar Katzenberger zuzuschreiben. Ein Vertrag wie der zu den Deckengem\\xc3\\xa4lden des Rittersaals hat sich nicht erhalten, sodass sie nicht genau datiert sind. Sie entstanden jedoch vermutlich sofort im Anschluss an die im November 1602 quittierten Deckengem\\xc3\\xa4lde des Saals, also von 1603 bis 1604. Bei der sp\\xc3\\xa4testen dargestellten Belagerung von 1604 handelt es sich um einen Nachz\\xc3\\xbcgler. Ihr Duktus ist nicht der von Katzenberger, was sich insbesondere an den Wolkenformationen zeigt, die entgegen Katzenbergers Gepflogenheit wei\\xc3\\x9f konturiert sind. M\\xc3\\xb6glicherweise ersetzte das Gem\\xc3\\xa4lde ein anderes Bild und wurde zu einem Zeitpunkt gew\\xc3\\xbcnscht, als Katzenberger nicht zur Verf\\xc3\\xbcgung stand. Der Anlass f\\xc3\\xbcr die nachtr\\xc3\\xa4gliche Bestellung war der Tod von Graf Ludwig Kasimir bei der dargestellten Belagerung von Gran im Jahr 1604, an die das Gem\\xc3\\xa4lde erinnert.<br>    </p><br>    <h3>Komposition und Darstellungsmodus der Gem\\xc3\\xa4lde</h3><br>    <p><br>      Die hochrechteckigen Belagerungsszenen folgen im Aufbau prinzipiell den achteckigen Jagdgem\\xc3\\xa4lden im Saal. Im Vordergrund hat Katzenberger ein Get\\xc3\\xbcmmel inszeniert, das sich am unteren Bildrand abspielt und dessen Protagonisten von beiden Seiten ins Bild reiten oder treten. Seitlich wird das Geschehen von hohen Repoussoir-B\\xc3\\xa4ume gerahmt, die sich am oberen Bildrand durch die Beschriftung der Gem\\xc3\\xa4lde mit dunklen Buchstaben vor blauem Himmel zu einer ovalen Rahmung zusammenschlie\\xc3\\x9fen. Im Mittel- und Hintergrund schilderte Katzenberger in weitl\\xc3\\xa4ufiger Landschaft die Belagerung einer Festung. Rings um die Festung stehen die Zelte der Belagerer, entz\\xc3\\xbcnden sich Scharm\\xc3\\xbctzel und hin und wieder auch kleinere Schlachten.<br>    </p><br>    <h3>Thema, Vorlagen, Auswahl und Konzeption des Zyklus</h3><br>    <p><br>      Die Gem\\xc3\\xa4lde zeigen Belagerungen ungarischer Festungen, die sich w\\xc3\\xa4hrend des Langen T\\xc3\\xbcrkenkriegs ergaben. Der Lange T\\xc3\\xbcrkenkrieg begann 1593 zwischen dem Osmanischen Reich und den Habsburgern nachdem es schon vorher auf beiden Seiten zu Grenzverletzungen gekommen war.[4] Es handelte sich um einen Festungskrieg, bei dem die im Anschluss an die osmanische Belagerung Wiens im Jahr 1529 auf beiden Seiten ausgebauten Festungen wechselseitig belagert wurden. Beendet wurde der Krieg erst 1606 mit dem Frieden von Zsitvatorok. Die in Weikersheim dargestellten Belagerungen beginnen angeblich schon 1590, sp\\xc3\\xa4testens jedoch 1594 und reichen bis in das Jahr 1604.<br>    </p><br>    <p><br>      Der Lange T\\xc3\\xbcrkenkrieg mit seinen vielen Belagerungen bestimmte bereits das das Programm des inneren Ostportals des Rittersaals. Dieses Portal f\\xc3\\xbchrte nach Ansicht der Autorin nicht von der Tafelstube in den Saal, sondern vom Saal in die Tafelstube. Es bereitete den Besucher des Saals thematisch auf das Bildprogramm der Tafelstube vor, zumal das Portal und die Deckengem\\xc3\\xa4lde der Tafelstube zur gleichen Zeit entstanden. Der Stuckateur Gerhard Schmidt schuf sein 1603 signiertes und datiertes Portal im Saal, w\\xc3\\xa4hrend Katzenberger seine Gem\\xc3\\xa4lde in der Werkstatt malte.<br>    </p><br>    <p><br>      Als Vorlagen f\\xc3\\xbcr die Belagerungsszenen im Hintergrund dienten Kupferstiche, die einer ausf\\xc3\\xbchrlichen, 1602 in N\\xc3\\xbcrnberg erschienenen Chronik \\xc3\\xbcber den T\\xc3\\xbcrkenkrieg beigebunden waren.[5] Verfasser des Werkes \\xe2\\x80\\x9eChronologia oder Historische Beschreibung aller Kriegsemporungen und Bel\\xc3\\xa4gerungen der St\\xc3\\xa4tt und Vestungen, auch Scharm\\xc3\\xbctzeln und Schlachten, so in Ober- und Under-Ungarn, auch Sibenb\\xc3\\xbcrgen, mit dem T\\xc3\\xbcrcken von A. 1395 bi\\xc3\\x9f auff gegenwertige Zeit gedenckhw\\xc3\\xbcrdig geschehen \\xe2\\x80\\xa6\\xe2\\x80\\x9c[6] war Hieronymus Oertl (Ortelius), der in Wien als kaiserlicher Notar wegen seiner protestantischen Gesinnung 1580 in Ungnade gefallen war und sich danach in N\\xc3\\xbcrnberg niederlie\\xc3\\x9f.[7] Die Anregung zu dem Werk ging von seinem Schwager, dem N\\xc3\\xbcrnberger Kupferstecher und Verleger Johann Sibmacher aus. Sibmacher zeichnete die Belagerungsszenen nach Ortelius Vorgaben und stach sie in Kupfer.[8]<br>    </p><br>    <p><br>      Die insgesamt 28 Kupfer wurden in der deutschsprachigen Legende in ihrem Sujet genau benannt und mit dem Jahr der Belagerung versehen. Katzenberger \\xc3\\xbcbernahm diese Beischriften buchstabengetreu f\\xc3\\xbcr seine Deckengem\\xc3\\xa4lde. Aufgrund der sehr genauen \\xc3\\x9cbernahmen in Wort und Bild kann man davon ausgehen, dass Ortelius\\xe2\\x80\\x98 Chronik Graf Wolfgang im Jahr ihres Erscheinens 1602 vorlag. Ausgew\\xc3\\xa4hlt aus den 28 Kupfern wurden Belagerungsaktionen sowohl der Kaiserlichen als auch der Osmanen. Harald Dr\\xc3\\xb6s, der sich bislang am ausf\\xc3\\xbchrlichsten mit den Weikersheimer Belagerungsszenen auseinandergesetzt hat und dem wertvolle Hinweise zu verdanken sind,[9] vermutete deshalb sicher zurecht, dass die Auswahl der Szenen davon bestimmt war, dass Mitglieder des Hauses Hohenlohe beteiligt waren. Die folgende Beschreibung der Bilder best\\xc3\\xa4tigt diese Vermutung. Die sp\\xc3\\xa4teste dargestellte Belagerung von Gran (Eszergom), bei der der Sohn Ludwig Kasimir zu Tode kam,[10] bezieht sich als ein Art Memorialbild auf dessen Tod. Auch dieses tragische Ereignis wurde dem Besucher schon angek\\xc3\\xbcndigt, indem im Durchgang zwischen Saal und Tafelstube die Beweinung des toten Adonis durch Venus und Amor dargestellt wurde.<br>    </p><br>    <p><br>      Drei der in Weikersheim dargestellten Belagerungen lagen sp\\xc3\\xa4ter als das Erscheinungsjahr der Chronik. Sie wurden hinzuerfunden und weisen deutliche Schw\\xc3\\xa4chen in der Schilderung des Hintergrunds auf. Die drei jeweils an der Donau stattgefundenen Aktionen wurden aus Landkarten und Belagerungen Sibmachers versatzst\\xc3\\xbcckhaft kompiliert. Da die Gem\\xc3\\xa4lde keinerlei Anhaltspunkte zu ihrer urspr\\xc3\\xbcnglichen Anordnung preisgeben, folgt ihre nachfolgende Nummerierung der Chronologie der dargestellten Belagerungen. Sie findet sich in der gleichen Reihenfolge zusammen mit den genauen Ma\\xc3\\x9fen bei Harald Dr\\xc3\\xb6s im Band der Inschriften des ehemaligen Landkreises Mergentheim.[11]<br>    </p><br>    <h3>Rekonstruktion der einstigen Anordnung</h3><br>    <p><br>      Bei der Rekonstruktion der Decke, die Jan Lutteroth miterarbeitet und graphisch umgesetzt hat, wurde die Reihenfolge der durch keinerlei Bild- oder Schriftquellen \\xc3\\xbcberlieferten Anbringung ebenfalls gem\\xc3\\xa4\\xc3\\x9f der Chronologie gew\\xc3\\xa4hlt. Die Geschichte beginnt in angenommener Leserichtung von links nach rechts f\\xc3\\xbcr den Eintretenden links oben mit dem geheimnisvollen Nachtbild der Belagerung von Totis im Jahr 1590 (Belagerung I). Bei der Rekonstruktion der in vier Register \\xc3\\xbcbereinanderliegenden Szenen musste lediglich im dritten Register einmal die Chronologie verlassen werden, da die Belagerung der Stadt Waitzen im Jahr 1597 (Belagerung VII) als schmales Bildformat nicht links au\\xc3\\x9fen, sondern erst in der Mitte platziert werden konnte. Sie wird nun von den Belagerungen von Raab 1598, wiederum einem effektvollen Nachtbild (Belagerung VIII), und der Belagerung von Ofen ebenfalls im Jahr 1598 (Belagerung IX) flankiert.<br>    </p><br>    <p><br>      Die drei Belagerungen, an denen S\\xc3\\xb6hne teilgenommen hatten (Belagerung X, XI, XII) stehen bei der gew\\xc3\\xa4hlten Anordnung am Ende der Tafelstube. Die drei darunterliegenden Fenster er\\xc3\\xb6ffnen den Blick auf die Stadt s\\xc3\\xbcdlich des Marktplatzes. Das besonders wichtige Gem\\xc3\\xa4lde mit dem bei der Belagerung von Gran (Eszergom) 1604 get\\xc3\\xb6teten Ludwig Kasimir (Belagerung XII) kommt als letztes der Reihe rechts oben so zu stehen, dass Ludwig Kasimir mit seinem Pferd Richtung Kirche reitet, wo er beigesetzt wurde. Der trauernden Gr\\xc3\\xa4fin w\\xc3\\xbcrde auf dem Gem\\xc3\\xa4lde ebenfalls der Weg zur Kirche gewiesen.<br>    </p><br>    <p><br>      [1] Merten, Weikersheim, o. J., S. 40. Trentin-Meyer, Georg Friedrich von Hohenlohe, 2019, S. 90 spricht versehentlich von 13 Gem\\xc3\\xa4lden.<br>    </p><br>    <p><br>      [2] Freeden, Kamin, 1950, S. 142.<br>    </p><br>    <p><br>      [3] Die Ma\\xc3\\x9fe bei Dr\\xc3\\xb6s, Inschriften Mergentheim, 2002, S. 248. Ebd., S. 249 die bislang ausf\\xc3\\xbchrlichste Auseinandersetzung mit den Gem\\xc3\\xa4lden.<br>    </p><br>    <p><br>      [4] Zum Langen T\\xc3\\xbcrkenkrieg: Niederkorn, Langer T\\xc3\\xbcrkenkrieg, 1993.<br>    </p><br>    <p><br>      [5] Diese wichtige Vorlage bereits bei Fandrey, Weikersheim, 2010, S. 60.<br>    </p><br>    <p><br>      [6] Ortelius, Chronologia, 1602.<br>    </p><br>    <p><br>      [7] Mummenhoff, Ernst, \"Oertl, Hieronymus\" in: Allgemeine Deutsche Biographie 24 (1887), S. 445-446 [Online-Version]; URL: https://www.deutsche-biographie.de/pnd128534958.html#adbcontent.<br>    </p><br>    <p><br>      [8] Ebd. Au\\xc3\\x9ferdem Ortelius, Chronologia, 1602, \\xe2\\x80\\x9eAd Lectorem\\xe2\\x80\\x9c.<br>    </p><br>    <p><br>      [9] Dr\\xc3\\xb6s, Inschriften Mergentheim, 2002, S. 248\\xe2\\x80\\x93249.<br>    </p><br>    <p><br>      [10] Dr\\xc3\\xb6s, Inschriften Mergentheim, 2002, S. 248\\xe2\\x80\\x93250.<br>    </p><br>    <p><br>      [11] Dr\\xc3\\xb6s, Inschriften Mergentheim, 2002, Nr. 366.<br>    </p><br>  </body><br></html><br>\n"
     ]
    }
   ],
   "source": [
    "get_text(\"Q278\")\n",
    "#Belagerungsszenen des Langen Türkenkrieges"
   ]
  }
 ],
 "metadata": {
  "kernelspec": {
   "display_name": "Python 3",
   "language": "python",
   "name": "python3"
  },
  "language_info": {
   "codemirror_mode": {
    "name": "ipython",
    "version": 3
   },
   "file_extension": ".py",
   "mimetype": "text/x-python",
   "name": "python",
   "nbconvert_exporter": "python",
   "pygments_lexer": "ipython3",
   "version": "3.10.13"
  }
 },
 "nbformat": 4,
 "nbformat_minor": 2
}
